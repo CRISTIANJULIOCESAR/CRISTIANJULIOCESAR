{
  "nbformat": 4,
  "nbformat_minor": 0,
  "metadata": {
    "colab": {
      "provenance": []
    },
    "kernelspec": {
      "name": "python3",
      "display_name": "Python 3"
    },
    "language_info": {
      "name": "python"
    },
    "gpuClass": "standard"
  },
  "cells": [
    {
      "cell_type": "code",
      "execution_count": 1,
      "metadata": {
        "id": "P30UCp_me5R1"
      },
      "outputs": [],
      "source": [
        "import pandas as pd\n",
        "import numpy as np\n"
      ]
    },
    {
      "cell_type": "code",
      "source": [
        "df = pd.read_excel('/content/luis tukey.xlsx')"
      ],
      "metadata": {
        "id": "FPZaKhBefM_x"
      },
      "execution_count": 21,
      "outputs": []
    },
    {
      "cell_type": "code",
      "source": [
        "df"
      ],
      "metadata": {
        "colab": {
          "base_uri": "https://localhost:8080/",
          "height": 423
        },
        "id": "tq0pjPHAgHuN",
        "outputId": "0c005412-1c27-45ac-a661-79b3e94c1385"
      },
      "execution_count": 22,
      "outputs": [
        {
          "output_type": "execute_result",
          "data": {
            "text/plain": [
              "         Diagnóstico  Barthel  L&B  SPPB  SARC-F  GUG\n",
              "0    Artritis hombro      100    8    12       0   11\n",
              "1    Artritis hombro      100    8    11       0   12\n",
              "2    Artritis hombro      100    8    10       0   11\n",
              "3    Artritis hombro      100    8    10       0   11\n",
              "4    Artritis hombro       85    6     9       3   19\n",
              "..               ...      ...  ...   ...     ...  ...\n",
              "116      Gonartrosis       65    4     6       6   24\n",
              "117      Gonartrosis       70    5     9       5   14\n",
              "118      Gonartrosis       80    7     8       5   16\n",
              "119      Gonartrosis       85    7     7       3   18\n",
              "120      Gonartrosis       85    7     9       3   12\n",
              "\n",
              "[121 rows x 6 columns]"
            ],
            "text/html": [
              "\n",
              "  <div id=\"df-47ecfa8a-9a06-44c8-879d-e5245c49509e\">\n",
              "    <div class=\"colab-df-container\">\n",
              "      <div>\n",
              "<style scoped>\n",
              "    .dataframe tbody tr th:only-of-type {\n",
              "        vertical-align: middle;\n",
              "    }\n",
              "\n",
              "    .dataframe tbody tr th {\n",
              "        vertical-align: top;\n",
              "    }\n",
              "\n",
              "    .dataframe thead th {\n",
              "        text-align: right;\n",
              "    }\n",
              "</style>\n",
              "<table border=\"1\" class=\"dataframe\">\n",
              "  <thead>\n",
              "    <tr style=\"text-align: right;\">\n",
              "      <th></th>\n",
              "      <th>Diagnóstico</th>\n",
              "      <th>Barthel</th>\n",
              "      <th>L&amp;B</th>\n",
              "      <th>SPPB</th>\n",
              "      <th>SARC-F</th>\n",
              "      <th>GUG</th>\n",
              "    </tr>\n",
              "  </thead>\n",
              "  <tbody>\n",
              "    <tr>\n",
              "      <th>0</th>\n",
              "      <td>Artritis hombro</td>\n",
              "      <td>100</td>\n",
              "      <td>8</td>\n",
              "      <td>12</td>\n",
              "      <td>0</td>\n",
              "      <td>11</td>\n",
              "    </tr>\n",
              "    <tr>\n",
              "      <th>1</th>\n",
              "      <td>Artritis hombro</td>\n",
              "      <td>100</td>\n",
              "      <td>8</td>\n",
              "      <td>11</td>\n",
              "      <td>0</td>\n",
              "      <td>12</td>\n",
              "    </tr>\n",
              "    <tr>\n",
              "      <th>2</th>\n",
              "      <td>Artritis hombro</td>\n",
              "      <td>100</td>\n",
              "      <td>8</td>\n",
              "      <td>10</td>\n",
              "      <td>0</td>\n",
              "      <td>11</td>\n",
              "    </tr>\n",
              "    <tr>\n",
              "      <th>3</th>\n",
              "      <td>Artritis hombro</td>\n",
              "      <td>100</td>\n",
              "      <td>8</td>\n",
              "      <td>10</td>\n",
              "      <td>0</td>\n",
              "      <td>11</td>\n",
              "    </tr>\n",
              "    <tr>\n",
              "      <th>4</th>\n",
              "      <td>Artritis hombro</td>\n",
              "      <td>85</td>\n",
              "      <td>6</td>\n",
              "      <td>9</td>\n",
              "      <td>3</td>\n",
              "      <td>19</td>\n",
              "    </tr>\n",
              "    <tr>\n",
              "      <th>...</th>\n",
              "      <td>...</td>\n",
              "      <td>...</td>\n",
              "      <td>...</td>\n",
              "      <td>...</td>\n",
              "      <td>...</td>\n",
              "      <td>...</td>\n",
              "    </tr>\n",
              "    <tr>\n",
              "      <th>116</th>\n",
              "      <td>Gonartrosis</td>\n",
              "      <td>65</td>\n",
              "      <td>4</td>\n",
              "      <td>6</td>\n",
              "      <td>6</td>\n",
              "      <td>24</td>\n",
              "    </tr>\n",
              "    <tr>\n",
              "      <th>117</th>\n",
              "      <td>Gonartrosis</td>\n",
              "      <td>70</td>\n",
              "      <td>5</td>\n",
              "      <td>9</td>\n",
              "      <td>5</td>\n",
              "      <td>14</td>\n",
              "    </tr>\n",
              "    <tr>\n",
              "      <th>118</th>\n",
              "      <td>Gonartrosis</td>\n",
              "      <td>80</td>\n",
              "      <td>7</td>\n",
              "      <td>8</td>\n",
              "      <td>5</td>\n",
              "      <td>16</td>\n",
              "    </tr>\n",
              "    <tr>\n",
              "      <th>119</th>\n",
              "      <td>Gonartrosis</td>\n",
              "      <td>85</td>\n",
              "      <td>7</td>\n",
              "      <td>7</td>\n",
              "      <td>3</td>\n",
              "      <td>18</td>\n",
              "    </tr>\n",
              "    <tr>\n",
              "      <th>120</th>\n",
              "      <td>Gonartrosis</td>\n",
              "      <td>85</td>\n",
              "      <td>7</td>\n",
              "      <td>9</td>\n",
              "      <td>3</td>\n",
              "      <td>12</td>\n",
              "    </tr>\n",
              "  </tbody>\n",
              "</table>\n",
              "<p>121 rows × 6 columns</p>\n",
              "</div>\n",
              "      <button class=\"colab-df-convert\" onclick=\"convertToInteractive('df-47ecfa8a-9a06-44c8-879d-e5245c49509e')\"\n",
              "              title=\"Convert this dataframe to an interactive table.\"\n",
              "              style=\"display:none;\">\n",
              "        \n",
              "  <svg xmlns=\"http://www.w3.org/2000/svg\" height=\"24px\"viewBox=\"0 0 24 24\"\n",
              "       width=\"24px\">\n",
              "    <path d=\"M0 0h24v24H0V0z\" fill=\"none\"/>\n",
              "    <path d=\"M18.56 5.44l.94 2.06.94-2.06 2.06-.94-2.06-.94-.94-2.06-.94 2.06-2.06.94zm-11 1L8.5 8.5l.94-2.06 2.06-.94-2.06-.94L8.5 2.5l-.94 2.06-2.06.94zm10 10l.94 2.06.94-2.06 2.06-.94-2.06-.94-.94-2.06-.94 2.06-2.06.94z\"/><path d=\"M17.41 7.96l-1.37-1.37c-.4-.4-.92-.59-1.43-.59-.52 0-1.04.2-1.43.59L10.3 9.45l-7.72 7.72c-.78.78-.78 2.05 0 2.83L4 21.41c.39.39.9.59 1.41.59.51 0 1.02-.2 1.41-.59l7.78-7.78 2.81-2.81c.8-.78.8-2.07 0-2.86zM5.41 20L4 18.59l7.72-7.72 1.47 1.35L5.41 20z\"/>\n",
              "  </svg>\n",
              "      </button>\n",
              "      \n",
              "  <style>\n",
              "    .colab-df-container {\n",
              "      display:flex;\n",
              "      flex-wrap:wrap;\n",
              "      gap: 12px;\n",
              "    }\n",
              "\n",
              "    .colab-df-convert {\n",
              "      background-color: #E8F0FE;\n",
              "      border: none;\n",
              "      border-radius: 50%;\n",
              "      cursor: pointer;\n",
              "      display: none;\n",
              "      fill: #1967D2;\n",
              "      height: 32px;\n",
              "      padding: 0 0 0 0;\n",
              "      width: 32px;\n",
              "    }\n",
              "\n",
              "    .colab-df-convert:hover {\n",
              "      background-color: #E2EBFA;\n",
              "      box-shadow: 0px 1px 2px rgba(60, 64, 67, 0.3), 0px 1px 3px 1px rgba(60, 64, 67, 0.15);\n",
              "      fill: #174EA6;\n",
              "    }\n",
              "\n",
              "    [theme=dark] .colab-df-convert {\n",
              "      background-color: #3B4455;\n",
              "      fill: #D2E3FC;\n",
              "    }\n",
              "\n",
              "    [theme=dark] .colab-df-convert:hover {\n",
              "      background-color: #434B5C;\n",
              "      box-shadow: 0px 1px 3px 1px rgba(0, 0, 0, 0.15);\n",
              "      filter: drop-shadow(0px 1px 2px rgba(0, 0, 0, 0.3));\n",
              "      fill: #FFFFFF;\n",
              "    }\n",
              "  </style>\n",
              "\n",
              "      <script>\n",
              "        const buttonEl =\n",
              "          document.querySelector('#df-47ecfa8a-9a06-44c8-879d-e5245c49509e button.colab-df-convert');\n",
              "        buttonEl.style.display =\n",
              "          google.colab.kernel.accessAllowed ? 'block' : 'none';\n",
              "\n",
              "        async function convertToInteractive(key) {\n",
              "          const element = document.querySelector('#df-47ecfa8a-9a06-44c8-879d-e5245c49509e');\n",
              "          const dataTable =\n",
              "            await google.colab.kernel.invokeFunction('convertToInteractive',\n",
              "                                                     [key], {});\n",
              "          if (!dataTable) return;\n",
              "\n",
              "          const docLinkHtml = 'Like what you see? Visit the ' +\n",
              "            '<a target=\"_blank\" href=https://colab.research.google.com/notebooks/data_table.ipynb>data table notebook</a>'\n",
              "            + ' to learn more about interactive tables.';\n",
              "          element.innerHTML = '';\n",
              "          dataTable['output_type'] = 'display_data';\n",
              "          await google.colab.output.renderOutput(dataTable, element);\n",
              "          const docLink = document.createElement('div');\n",
              "          docLink.innerHTML = docLinkHtml;\n",
              "          element.appendChild(docLink);\n",
              "        }\n",
              "      </script>\n",
              "    </div>\n",
              "  </div>\n",
              "  "
            ]
          },
          "metadata": {},
          "execution_count": 22
        }
      ]
    },
    {
      "cell_type": "code",
      "source": [
        "import seaborn as sns\n",
        "import matplotlib.pyplot as plt\n",
        "sns.boxplot( y=df[\"Diagnóstico\"], x=df[\"Barthel\"] );\n",
        "plt.show()"
      ],
      "metadata": {
        "colab": {
          "base_uri": "https://localhost:8080/",
          "height": 279
        },
        "id": "2E0nJlEfk8sa",
        "outputId": "73fde438-5a03-4474-cce0-b93234fedf9c"
      },
      "execution_count": 23,
      "outputs": [
        {
          "output_type": "display_data",
          "data": {
            "text/plain": [
              "<Figure size 432x288 with 1 Axes>"
            ],
            "image/png": "[encoded data removed]"
          },
          "metadata": {
            "needs_background": "light"
          }
        }
      ]
    },
    {
      "cell_type": "code",
      "source": [
        "import seaborn as sns\n",
        "import matplotlib.pyplot as plt\n",
        "\n",
        "sns.boxplot( y=df[\"Diagnóstico\"], x=df[\"L&B\"] );\n",
        "plt.show()"
      ],
      "metadata": {
        "colab": {
          "base_uri": "https://localhost:8080/",
          "height": 279
        },
        "id": "X6M2NFselQ_r",
        "outputId": "db56e17b-e5da-4003-d114-6d92cb06526f"
      },
      "execution_count": 24,
      "outputs": [
        {
          "output_type": "display_data",
          "data": {
            "text/plain": [
              "<Figure size 432x288 with 1 Axes>"
            ],
            "image/png": "[encoded data removed]"
          },
          "metadata": {
            "needs_background": "light"
          }
        }
      ]
    },
    {
      "cell_type": "code",
      "source": [
        "import seaborn as sns\n",
        "import matplotlib.pyplot as plt\n",
        "\n",
        "sns.boxplot( y=df[\"Diagnóstico\"], x=df[\"SPPB\"] );\n",
        "plt.show()"
      ],
      "metadata": {
        "colab": {
          "base_uri": "https://localhost:8080/",
          "height": 279
        },
        "id": "rkGf2-BnlT68",
        "outputId": "8879ef49-c4ce-4693-b7db-03e6d598495e"
      },
      "execution_count": 26,
      "outputs": [
        {
          "output_type": "display_data",
          "data": {
            "text/plain": [
              "<Figure size 432x288 with 1 Axes>"
            ],
            "image/png": "[encoded data removed]"
          },
          "metadata": {
            "needs_background": "light"
          }
        }
      ]
    },
    {
      "cell_type": "code",
      "source": [
        "import seaborn as sns\n",
        "import matplotlib.pyplot as plt\n",
        "\n",
        "sns.boxplot( y=df[\"Diagnóstico\"], x=df[\"SARC-F\"] );\n",
        "plt.show()"
      ],
      "metadata": {
        "colab": {
          "base_uri": "https://localhost:8080/",
          "height": 279
        },
        "id": "iYcb2jvFlZqr",
        "outputId": "4f2493c6-c643-40cc-c7c9-36f70b003dc9"
      },
      "execution_count": 27,
      "outputs": [
        {
          "output_type": "display_data",
          "data": {
            "text/plain": [
              "<Figure size 432x288 with 1 Axes>"
            ],
            "image/png": "[encoded data removed]"
          },
          "metadata": {
            "needs_background": "light"
          }
        }
      ]
    },
    {
      "cell_type": "code",
      "source": [
        "\n",
        "import seaborn as sns\n",
        "import matplotlib.pyplot as plt\n",
        "\n",
        "sns.boxplot( y=df[\"Diagnóstico\"], x=df[\"GUG\"] );\n",
        "plt.show()"
      ],
      "metadata": {
        "colab": {
          "base_uri": "https://localhost:8080/",
          "height": 279
        },
        "id": "cisGCf92lcBt",
        "outputId": "89da2494-372b-43a1-ecbb-9dad71b2f8b3"
      },
      "execution_count": 28,
      "outputs": [
        {
          "output_type": "display_data",
          "data": {
            "text/plain": [
              "<Figure size 432x288 with 1 Axes>"
            ],
            "image/png": "[encoded data removed]"
          },
          "metadata": {
            "needs_background": "light"
          }
        }
      ]
    },
    {
      "cell_type": "code",
      "source": [
        "sns.clustermap(df.corr())\n"
      ],
      "metadata": {
        "colab": {
          "base_uri": "https://localhost:8080/",
          "height": 748
        },
        "id": "GYtYrTyOmHte",
        "outputId": "f3bba97d-f225-4141-bdde-6d9cebf26870"
      },
      "execution_count": 34,
      "outputs": [
        {
          "output_type": "execute_result",
          "data": {
            "text/plain": [
              "<seaborn.matrix.ClusterGrid at 0x7fba655e13d0>"
            ]
          },
          "metadata": {},
          "execution_count": 34
        },
        {
          "output_type": "display_data",
          "data": {
            "text/plain": [
              "<Figure size 720x720 with 4 Axes>"
            ],
            "image/png": "[encoded data removed]"
          },
          "metadata": {
            "needs_background": "light"
          }
        }
      ]
    },
    {
      "cell_type": "code",
      "source": [],
      "metadata": {
        "id": "I8Oq_DBhmjdQ"
      },
      "execution_count": null,
      "outputs": []
    },
    {
      "cell_type": "code",
      "source": [
        "df[\"Diagnóstico\"]"
      ],
      "metadata": {
        "colab": {
          "base_uri": "https://localhost:8080/"
        },
        "id": "plkUoyEfgVhz",
        "outputId": "24772187-d155-4698-f3af-f0dfa54be6a6"
      },
      "execution_count": 13,
      "outputs": [
        {
          "output_type": "execute_result",
          "data": {
            "text/plain": [
              "0      Artritis hombro\n",
              "1      Artritis hombro\n",
              "2      Artritis hombro\n",
              "3      Artritis hombro\n",
              "4      Artritis hombro\n",
              "            ...       \n",
              "116        Gonartrosis\n",
              "117        Gonartrosis\n",
              "118        Gonartrosis\n",
              "119        Gonartrosis\n",
              "120        Gonartrosis\n",
              "Name: Diagnóstico, Length: 121, dtype: object"
            ]
          },
          "metadata": {},
          "execution_count": 13
        }
      ]
    },
    {
      "cell_type": "code",
      "source": [
        "#este es para GUG en diagnosticos\n",
        "from statsmodels.stats.multicomp import pairwise_tukeyhsd\n",
        "hs_res=pairwise_tukeyhsd(df['GUG'],df[\"Diagnóstico\"],alpha=0.05)\n",
        "#print(hs_res)\n",
        "cosa= hs_res.summary()\n",
        "cosa"
      ],
      "metadata": {
        "colab": {
          "base_uri": "https://localhost:8080/",
          "height": 121
        },
        "id": "Gfo_rCQ2fRNR",
        "outputId": "56a22422-01c0-4991-81c0-9a510917d22a"
      },
      "execution_count": 15,
      "outputs": [
        {
          "output_type": "execute_result",
          "data": {
            "text/plain": [
              "<class 'statsmodels.iolib.table.SimpleTable'>"
            ],
            "text/html": [
              "<table class=\"simpletable\">\n",
              "<caption>Multiple Comparison of Means - Tukey HSD, FWER=0.05</caption>\n",
              "<tr>\n",
              "      <th>group1</th>        <th>group2</th>    <th>meandiff</th>  <th>p-adj</th>  <th>lower</th>   <th>upper</th>  <th>reject</th>\n",
              "</tr>\n",
              "<tr>\n",
              "  <td>Artritis hombro</td> <td>Coxartrosis</td>  <td>14.9255</td>  <td>0.001</td> <td>8.0617</td>  <td>21.7892</td>  <td>True</td> \n",
              "</tr>\n",
              "<tr>\n",
              "  <td>Artritis hombro</td> <td>Gonartrosis</td>  <td>10.7121</td>  <td>0.001</td> <td>3.9523</td>  <td>17.4719</td>  <td>True</td> \n",
              "</tr>\n",
              "<tr>\n",
              "    <td>Coxartrosis</td>   <td>Gonartrosis</td>  <td>-4.2133</td> <td>0.0334</td> <td>-8.1598</td> <td>-0.2668</td>  <td>True</td> \n",
              "</tr>\n",
              "</table>"
            ]
          },
          "metadata": {},
          "execution_count": 15
        }
      ]
    },
    {
      "cell_type": "code",
      "source": [
        "#este es para barthel en diagnosticos\n",
        "from statsmodels.stats.multicomp import pairwise_tukeyhsd\n",
        "hs_res=pairwise_tukeyhsd(df['Barthel'],df[\"Diagnóstico\"],alpha=0.05)\n",
        "#print(hs_res)\n",
        "cosa= hs_res.summary()\n",
        "cosa"
      ],
      "metadata": {
        "colab": {
          "base_uri": "https://localhost:8080/",
          "height": 121
        },
        "id": "6d3SWftignJ_",
        "outputId": "4ea44c3c-a692-43ea-ebf9-4798c3bad385"
      },
      "execution_count": 16,
      "outputs": [
        {
          "output_type": "execute_result",
          "data": {
            "text/plain": [
              "<class 'statsmodels.iolib.table.SimpleTable'>"
            ],
            "text/html": [
              "<table class=\"simpletable\">\n",
              "<caption>Multiple Comparison of Means - Tukey HSD, FWER=0.05</caption>\n",
              "<tr>\n",
              "      <th>group1</th>        <th>group2</th>    <th>meandiff</th>  <th>p-adj</th>   <th>lower</th>    <th>upper</th>  <th>reject</th>\n",
              "</tr>\n",
              "<tr>\n",
              "  <td>Artritis hombro</td> <td>Coxartrosis</td> <td>-19.6273</td>  <td>0.001</td> <td>-26.6347</td> <td>-12.6199</td>  <td>True</td> \n",
              "</tr>\n",
              "<tr>\n",
              "  <td>Artritis hombro</td> <td>Gonartrosis</td> <td>-16.8939</td>  <td>0.001</td> <td>-23.7952</td>  <td>-9.9927</td>  <td>True</td> \n",
              "</tr>\n",
              "<tr>\n",
              "    <td>Coxartrosis</td>   <td>Gonartrosis</td>  <td>2.7333</td>  <td>0.2455</td>  <td>-1.2958</td>  <td>6.7624</td>   <td>False</td>\n",
              "</tr>\n",
              "</table>"
            ]
          },
          "metadata": {},
          "execution_count": 16
        }
      ]
    },
    {
      "cell_type": "code",
      "source": [
        "#este es para L&B en diagnosticos\n",
        "from statsmodels.stats.multicomp import pairwise_tukeyhsd\n",
        "hs_res=pairwise_tukeyhsd(df['L&B'],df[\"Diagnóstico\"],alpha=0.05)\n",
        "#print(hs_res)\n",
        "cosa= hs_res.summary()\n",
        "cosa"
      ],
      "metadata": {
        "colab": {
          "base_uri": "https://localhost:8080/",
          "height": 121
        },
        "id": "LJ9IiCmXgpyf",
        "outputId": "035d600a-fd5b-497d-89ee-97006d16e0af"
      },
      "execution_count": 17,
      "outputs": [
        {
          "output_type": "execute_result",
          "data": {
            "text/plain": [
              "<class 'statsmodels.iolib.table.SimpleTable'>"
            ],
            "text/html": [
              "<table class=\"simpletable\">\n",
              "<caption>Multiple Comparison of Means - Tukey HSD, FWER=0.05</caption>\n",
              "<tr>\n",
              "      <th>group1</th>        <th>group2</th>    <th>meandiff</th>  <th>p-adj</th>  <th>lower</th>   <th>upper</th>  <th>reject</th>\n",
              "</tr>\n",
              "<tr>\n",
              "  <td>Artritis hombro</td> <td>Coxartrosis</td>  <td>-2.0455</td>  <td>0.001</td> <td>-3.3339</td> <td>-0.7571</td>  <td>True</td> \n",
              "</tr>\n",
              "<tr>\n",
              "  <td>Artritis hombro</td> <td>Gonartrosis</td>  <td>-1.4288</td> <td>0.0232</td> <td>-2.6977</td> <td>-0.1599</td>  <td>True</td> \n",
              "</tr>\n",
              "<tr>\n",
              "    <td>Coxartrosis</td>   <td>Gonartrosis</td>  <td>0.6167</td>  <td>0.1228</td> <td>-0.1241</td> <td>1.3575</td>   <td>False</td>\n",
              "</tr>\n",
              "</table>"
            ]
          },
          "metadata": {},
          "execution_count": 17
        }
      ]
    },
    {
      "cell_type": "code",
      "source": [
        "#este es para L&B en diagnosticos\n",
        "from statsmodels.stats.multicomp import pairwise_tukeyhsd\n",
        "hs_res=pairwise_tukeyhsd(df['SPPB'],df[\"Diagnóstico\"],alpha=0.05)\n",
        "#print(hs_res)\n",
        "cosa= hs_res.summary()\n",
        "cosa"
      ],
      "metadata": {
        "colab": {
          "base_uri": "https://localhost:8080/",
          "height": 121
        },
        "id": "7ra4ZS6lguDK",
        "outputId": "ad98ee74-f200-4c57-c5e9-1ef6ba0aaebe"
      },
      "execution_count": 18,
      "outputs": [
        {
          "output_type": "execute_result",
          "data": {
            "text/plain": [
              "<class 'statsmodels.iolib.table.SimpleTable'>"
            ],
            "text/html": [
              "<table class=\"simpletable\">\n",
              "<caption>Multiple Comparison of Means - Tukey HSD, FWER=0.05</caption>\n",
              "<tr>\n",
              "      <th>group1</th>        <th>group2</th>    <th>meandiff</th>  <th>p-adj</th>  <th>lower</th>   <th>upper</th>  <th>reject</th>\n",
              "</tr>\n",
              "<tr>\n",
              "  <td>Artritis hombro</td> <td>Coxartrosis</td>  <td>-3.6964</td>  <td>0.001</td> <td>-5.2222</td> <td>-2.1706</td>  <td>True</td> \n",
              "</tr>\n",
              "<tr>\n",
              "  <td>Artritis hombro</td> <td>Gonartrosis</td>  <td>-3.0197</td>  <td>0.001</td> <td>-4.5224</td> <td>-1.517</td>   <td>True</td> \n",
              "</tr>\n",
              "<tr>\n",
              "    <td>Coxartrosis</td>   <td>Gonartrosis</td>  <td>0.6767</td>  <td>0.1642</td> <td>-0.2006</td>  <td>1.554</td>   <td>False</td>\n",
              "</tr>\n",
              "</table>"
            ]
          },
          "metadata": {},
          "execution_count": 18
        }
      ]
    },
    {
      "cell_type": "code",
      "source": [
        "\t#este es para SARC-F en diagnosticos\n",
        "from statsmodels.stats.multicomp import pairwise_tukeyhsd\n",
        "hs_res=pairwise_tukeyhsd(df['SARC-F'],df[\"Diagnóstico\"],alpha=0.05)\n",
        "#print(hs_res)\n",
        "cosa= hs_res.summary()\n",
        "cosa"
      ],
      "metadata": {
        "colab": {
          "base_uri": "https://localhost:8080/",
          "height": 121
        },
        "id": "4gZkJQ1Lg7XQ",
        "outputId": "99f1e8ce-011d-4b37-f9e7-9902ab38a66d"
      },
      "execution_count": 19,
      "outputs": [
        {
          "output_type": "execute_result",
          "data": {
            "text/plain": [
              "<class 'statsmodels.iolib.table.SimpleTable'>"
            ],
            "text/html": [
              "<table class=\"simpletable\">\n",
              "<caption>Multiple Comparison of Means - Tukey HSD, FWER=0.05</caption>\n",
              "<tr>\n",
              "      <th>group1</th>        <th>group2</th>    <th>meandiff</th>  <th>p-adj</th>  <th>lower</th>   <th>upper</th> <th>reject</th>\n",
              "</tr>\n",
              "<tr>\n",
              "  <td>Artritis hombro</td> <td>Coxartrosis</td>  <td>2.5145</td>   <td>0.001</td> <td>1.3377</td>  <td>3.6914</td>  <td>True</td> \n",
              "</tr>\n",
              "<tr>\n",
              "  <td>Artritis hombro</td> <td>Gonartrosis</td>  <td>2.0879</td>   <td>0.001</td> <td>0.9289</td>  <td>3.2469</td>  <td>True</td> \n",
              "</tr>\n",
              "<tr>\n",
              "    <td>Coxartrosis</td>   <td>Gonartrosis</td>  <td>-0.4267</td> <td>0.2966</td> <td>-1.1033</td>  <td>0.25</td>   <td>False</td>\n",
              "</tr>\n",
              "</table>"
            ]
          },
          "metadata": {},
          "execution_count": 19
        }
      ]
    },
    {
      "cell_type": "code",
      "source": [],
      "metadata": {
        "colab": {
          "base_uri": "https://localhost:8080/"
        },
        "id": "ZZgXJTQxpSBu",
        "outputId": "53ebede6-95e8-46cf-de43-8186087831d9"
      },
      "execution_count": 57,
      "outputs": [
        {
          "output_type": "execute_result",
          "data": {
            "text/plain": [
              "381"
            ]
          },
          "metadata": {},
          "execution_count": 57
        }
      ]
    },
    {
      "cell_type": "code",
      "source": [
        "df.iloc[:,1:]"
      ],
      "metadata": {
        "colab": {
          "base_uri": "https://localhost:8080/",
          "height": 423
        },
        "id": "xmKpsEm9m6o5",
        "outputId": "142e59a9-a00d-418d-b9c1-562cffd1d97a"
      },
      "execution_count": 38,
      "outputs": [
        {
          "output_type": "execute_result",
          "data": {
            "text/plain": [
              "     Barthel  L&B  SPPB  SARC-F  GUG\n",
              "0        100    8    12       0   11\n",
              "1        100    8    11       0   12\n",
              "2        100    8    10       0   11\n",
              "3        100    8    10       0   11\n",
              "4         85    6     9       3   19\n",
              "..       ...  ...   ...     ...  ...\n",
              "116       65    4     6       6   24\n",
              "117       70    5     9       5   14\n",
              "118       80    7     8       5   16\n",
              "119       85    7     7       3   18\n",
              "120       85    7     9       3   12\n",
              "\n",
              "[121 rows x 5 columns]"
            ],
            "text/html": [
              "\n",
              "  <div id=\"df-5507d47e-5744-4f45-989a-a55a4ec8e120\">\n",
              "    <div class=\"colab-df-container\">\n",
              "      <div>\n",
              "<style scoped>\n",
              "    .dataframe tbody tr th:only-of-type {\n",
              "        vertical-align: middle;\n",
              "    }\n",
              "\n",
              "    .dataframe tbody tr th {\n",
              "        vertical-align: top;\n",
              "    }\n",
              "\n",
              "    .dataframe thead th {\n",
              "        text-align: right;\n",
              "    }\n",
              "</style>\n",
              "<table border=\"1\" class=\"dataframe\">\n",
              "  <thead>\n",
              "    <tr style=\"text-align: right;\">\n",
              "      <th></th>\n",
              "      <th>Barthel</th>\n",
              "      <th>L&amp;B</th>\n",
              "      <th>SPPB</th>\n",
              "      <th>SARC-F</th>\n",
              "      <th>GUG</th>\n",
              "    </tr>\n",
              "  </thead>\n",
              "  <tbody>\n",
              "    <tr>\n",
              "      <th>0</th>\n",
              "      <td>100</td>\n",
              "      <td>8</td>\n",
              "      <td>12</td>\n",
              "      <td>0</td>\n",
              "      <td>11</td>\n",
              "    </tr>\n",
              "    <tr>\n",
              "      <th>1</th>\n",
              "      <td>100</td>\n",
              "      <td>8</td>\n",
              "      <td>11</td>\n",
              "      <td>0</td>\n",
              "      <td>12</td>\n",
              "    </tr>\n",
              "    <tr>\n",
              "      <th>2</th>\n",
              "      <td>100</td>\n",
              "      <td>8</td>\n",
              "      <td>10</td>\n",
              "      <td>0</td>\n",
              "      <td>11</td>\n",
              "    </tr>\n",
              "    <tr>\n",
              "      <th>3</th>\n",
              "      <td>100</td>\n",
              "      <td>8</td>\n",
              "      <td>10</td>\n",
              "      <td>0</td>\n",
              "      <td>11</td>\n",
              "    </tr>\n",
              "    <tr>\n",
              "      <th>4</th>\n",
              "      <td>85</td>\n",
              "      <td>6</td>\n",
              "      <td>9</td>\n",
              "      <td>3</td>\n",
              "      <td>19</td>\n",
              "    </tr>\n",
              "    <tr>\n",
              "      <th>...</th>\n",
              "      <td>...</td>\n",
              "      <td>...</td>\n",
              "      <td>...</td>\n",
              "      <td>...</td>\n",
              "      <td>...</td>\n",
              "    </tr>\n",
              "    <tr>\n",
              "      <th>116</th>\n",
              "      <td>65</td>\n",
              "      <td>4</td>\n",
              "      <td>6</td>\n",
              "      <td>6</td>\n",
              "      <td>24</td>\n",
              "    </tr>\n",
              "    <tr>\n",
              "      <th>117</th>\n",
              "      <td>70</td>\n",
              "      <td>5</td>\n",
              "      <td>9</td>\n",
              "      <td>5</td>\n",
              "      <td>14</td>\n",
              "    </tr>\n",
              "    <tr>\n",
              "      <th>118</th>\n",
              "      <td>80</td>\n",
              "      <td>7</td>\n",
              "      <td>8</td>\n",
              "      <td>5</td>\n",
              "      <td>16</td>\n",
              "    </tr>\n",
              "    <tr>\n",
              "      <th>119</th>\n",
              "      <td>85</td>\n",
              "      <td>7</td>\n",
              "      <td>7</td>\n",
              "      <td>3</td>\n",
              "      <td>18</td>\n",
              "    </tr>\n",
              "    <tr>\n",
              "      <th>120</th>\n",
              "      <td>85</td>\n",
              "      <td>7</td>\n",
              "      <td>9</td>\n",
              "      <td>3</td>\n",
              "      <td>12</td>\n",
              "    </tr>\n",
              "  </tbody>\n",
              "</table>\n",
              "<p>121 rows × 5 columns</p>\n",
              "</div>\n",
              "      <button class=\"colab-df-convert\" onclick=\"convertToInteractive('df-5507d47e-5744-4f45-989a-a55a4ec8e120')\"\n",
              "              title=\"Convert this dataframe to an interactive table.\"\n",
              "              style=\"display:none;\">\n",
              "        \n",
              "  <svg xmlns=\"http://www.w3.org/2000/svg\" height=\"24px\"viewBox=\"0 0 24 24\"\n",
              "       width=\"24px\">\n",
              "    <path d=\"M0 0h24v24H0V0z\" fill=\"none\"/>\n",
              "    <path d=\"M18.56 5.44l.94 2.06.94-2.06 2.06-.94-2.06-.94-.94-2.06-.94 2.06-2.06.94zm-11 1L8.5 8.5l.94-2.06 2.06-.94-2.06-.94L8.5 2.5l-.94 2.06-2.06.94zm10 10l.94 2.06.94-2.06 2.06-.94-2.06-.94-.94-2.06-.94 2.06-2.06.94z\"/><path d=\"M17.41 7.96l-1.37-1.37c-.4-.4-.92-.59-1.43-.59-.52 0-1.04.2-1.43.59L10.3 9.45l-7.72 7.72c-.78.78-.78 2.05 0 2.83L4 21.41c.39.39.9.59 1.41.59.51 0 1.02-.2 1.41-.59l7.78-7.78 2.81-2.81c.8-.78.8-2.07 0-2.86zM5.41 20L4 18.59l7.72-7.72 1.47 1.35L5.41 20z\"/>\n",
              "  </svg>\n",
              "      </button>\n",
              "      \n",
              "  <style>\n",
              "    .colab-df-container {\n",
              "      display:flex;\n",
              "      flex-wrap:wrap;\n",
              "      gap: 12px;\n",
              "    }\n",
              "\n",
              "    .colab-df-convert {\n",
              "      background-color: #E8F0FE;\n",
              "      border: none;\n",
              "      border-radius: 50%;\n",
              "      cursor: pointer;\n",
              "      display: none;\n",
              "      fill: #1967D2;\n",
              "      height: 32px;\n",
              "      padding: 0 0 0 0;\n",
              "      width: 32px;\n",
              "    }\n",
              "\n",
              "    .colab-df-convert:hover {\n",
              "      background-color: #E2EBFA;\n",
              "      box-shadow: 0px 1px 2px rgba(60, 64, 67, 0.3), 0px 1px 3px 1px rgba(60, 64, 67, 0.15);\n",
              "      fill: #174EA6;\n",
              "    }\n",
              "\n",
              "    [theme=dark] .colab-df-convert {\n",
              "      background-color: #3B4455;\n",
              "      fill: #D2E3FC;\n",
              "    }\n",
              "\n",
              "    [theme=dark] .colab-df-convert:hover {\n",
              "      background-color: #434B5C;\n",
              "      box-shadow: 0px 1px 3px 1px rgba(0, 0, 0, 0.15);\n",
              "      filter: drop-shadow(0px 1px 2px rgba(0, 0, 0, 0.3));\n",
              "      fill: #FFFFFF;\n",
              "    }\n",
              "  </style>\n",
              "\n",
              "      <script>\n",
              "        const buttonEl =\n",
              "          document.querySelector('#df-5507d47e-5744-4f45-989a-a55a4ec8e120 button.colab-df-convert');\n",
              "        buttonEl.style.display =\n",
              "          google.colab.kernel.accessAllowed ? 'block' : 'none';\n",
              "\n",
              "        async function convertToInteractive(key) {\n",
              "          const element = document.querySelector('#df-5507d47e-5744-4f45-989a-a55a4ec8e120');\n",
              "          const dataTable =\n",
              "            await google.colab.kernel.invokeFunction('convertToInteractive',\n",
              "                                                     [key], {});\n",
              "          if (!dataTable) return;\n",
              "\n",
              "          const docLinkHtml = 'Like what you see? Visit the ' +\n",
              "            '<a target=\"_blank\" href=https://colab.research.google.com/notebooks/data_table.ipynb>data table notebook</a>'\n",
              "            + ' to learn more about interactive tables.';\n",
              "          element.innerHTML = '';\n",
              "          dataTable['output_type'] = 'display_data';\n",
              "          await google.colab.output.renderOutput(dataTable, element);\n",
              "          const docLink = document.createElement('div');\n",
              "          docLink.innerHTML = docLinkHtml;\n",
              "          element.appendChild(docLink);\n",
              "        }\n",
              "      </script>\n",
              "    </div>\n",
              "  </div>\n",
              "  "
            ]
          },
          "metadata": {},
          "execution_count": 38
        }
      ]
    },
    {
      "cell_type": "code",
      "source": [
        "df.iloc[:,0:1]"
      ],
      "metadata": {
        "colab": {
          "base_uri": "https://localhost:8080/",
          "height": 423
        },
        "id": "6hJp-BfwnE_r",
        "outputId": "9f94d434-0bee-4b1a-e97a-4c3f1427dd49"
      },
      "execution_count": 40,
      "outputs": [
        {
          "output_type": "execute_result",
          "data": {
            "text/plain": [
              "         Diagnóstico\n",
              "0    Artritis hombro\n",
              "1    Artritis hombro\n",
              "2    Artritis hombro\n",
              "3    Artritis hombro\n",
              "4    Artritis hombro\n",
              "..               ...\n",
              "116      Gonartrosis\n",
              "117      Gonartrosis\n",
              "118      Gonartrosis\n",
              "119      Gonartrosis\n",
              "120      Gonartrosis\n",
              "\n",
              "[121 rows x 1 columns]"
            ],
            "text/html": [
              "\n",
              "  <div id=\"df-399ee288-5311-480e-be1f-34b64ddcc756\">\n",
              "    <div class=\"colab-df-container\">\n",
              "      <div>\n",
              "<style scoped>\n",
              "    .dataframe tbody tr th:only-of-type {\n",
              "        vertical-align: middle;\n",
              "    }\n",
              "\n",
              "    .dataframe tbody tr th {\n",
              "        vertical-align: top;\n",
              "    }\n",
              "\n",
              "    .dataframe thead th {\n",
              "        text-align: right;\n",
              "    }\n",
              "</style>\n",
              "<table border=\"1\" class=\"dataframe\">\n",
              "  <thead>\n",
              "    <tr style=\"text-align: right;\">\n",
              "      <th></th>\n",
              "      <th>Diagnóstico</th>\n",
              "    </tr>\n",
              "  </thead>\n",
              "  <tbody>\n",
              "    <tr>\n",
              "      <th>0</th>\n",
              "      <td>Artritis hombro</td>\n",
              "    </tr>\n",
              "    <tr>\n",
              "      <th>1</th>\n",
              "      <td>Artritis hombro</td>\n",
              "    </tr>\n",
              "    <tr>\n",
              "      <th>2</th>\n",
              "      <td>Artritis hombro</td>\n",
              "    </tr>\n",
              "    <tr>\n",
              "      <th>3</th>\n",
              "      <td>Artritis hombro</td>\n",
              "    </tr>\n",
              "    <tr>\n",
              "      <th>4</th>\n",
              "      <td>Artritis hombro</td>\n",
              "    </tr>\n",
              "    <tr>\n",
              "      <th>...</th>\n",
              "      <td>...</td>\n",
              "    </tr>\n",
              "    <tr>\n",
              "      <th>116</th>\n",
              "      <td>Gonartrosis</td>\n",
              "    </tr>\n",
              "    <tr>\n",
              "      <th>117</th>\n",
              "      <td>Gonartrosis</td>\n",
              "    </tr>\n",
              "    <tr>\n",
              "      <th>118</th>\n",
              "      <td>Gonartrosis</td>\n",
              "    </tr>\n",
              "    <tr>\n",
              "      <th>119</th>\n",
              "      <td>Gonartrosis</td>\n",
              "    </tr>\n",
              "    <tr>\n",
              "      <th>120</th>\n",
              "      <td>Gonartrosis</td>\n",
              "    </tr>\n",
              "  </tbody>\n",
              "</table>\n",
              "<p>121 rows × 1 columns</p>\n",
              "</div>\n",
              "      <button class=\"colab-df-convert\" onclick=\"convertToInteractive('df-399ee288-5311-480e-be1f-34b64ddcc756')\"\n",
              "              title=\"Convert this dataframe to an interactive table.\"\n",
              "              style=\"display:none;\">\n",
              "        \n",
              "  <svg xmlns=\"http://www.w3.org/2000/svg\" height=\"24px\"viewBox=\"0 0 24 24\"\n",
              "       width=\"24px\">\n",
              "    <path d=\"M0 0h24v24H0V0z\" fill=\"none\"/>\n",
              "    <path d=\"M18.56 5.44l.94 2.06.94-2.06 2.06-.94-2.06-.94-.94-2.06-.94 2.06-2.06.94zm-11 1L8.5 8.5l.94-2.06 2.06-.94-2.06-.94L8.5 2.5l-.94 2.06-2.06.94zm10 10l.94 2.06.94-2.06 2.06-.94-2.06-.94-.94-2.06-.94 2.06-2.06.94z\"/><path d=\"M17.41 7.96l-1.37-1.37c-.4-.4-.92-.59-1.43-.59-.52 0-1.04.2-1.43.59L10.3 9.45l-7.72 7.72c-.78.78-.78 2.05 0 2.83L4 21.41c.39.39.9.59 1.41.59.51 0 1.02-.2 1.41-.59l7.78-7.78 2.81-2.81c.8-.78.8-2.07 0-2.86zM5.41 20L4 18.59l7.72-7.72 1.47 1.35L5.41 20z\"/>\n",
              "  </svg>\n",
              "      </button>\n",
              "      \n",
              "  <style>\n",
              "    .colab-df-container {\n",
              "      display:flex;\n",
              "      flex-wrap:wrap;\n",
              "      gap: 12px;\n",
              "    }\n",
              "\n",
              "    .colab-df-convert {\n",
              "      background-color: #E8F0FE;\n",
              "      border: none;\n",
              "      border-radius: 50%;\n",
              "      cursor: pointer;\n",
              "      display: none;\n",
              "      fill: #1967D2;\n",
              "      height: 32px;\n",
              "      padding: 0 0 0 0;\n",
              "      width: 32px;\n",
              "    }\n",
              "\n",
              "    .colab-df-convert:hover {\n",
              "      background-color: #E2EBFA;\n",
              "      box-shadow: 0px 1px 2px rgba(60, 64, 67, 0.3), 0px 1px 3px 1px rgba(60, 64, 67, 0.15);\n",
              "      fill: #174EA6;\n",
              "    }\n",
              "\n",
              "    [theme=dark] .colab-df-convert {\n",
              "      background-color: #3B4455;\n",
              "      fill: #D2E3FC;\n",
              "    }\n",
              "\n",
              "    [theme=dark] .colab-df-convert:hover {\n",
              "      background-color: #434B5C;\n",
              "      box-shadow: 0px 1px 3px 1px rgba(0, 0, 0, 0.15);\n",
              "      filter: drop-shadow(0px 1px 2px rgba(0, 0, 0, 0.3));\n",
              "      fill: #FFFFFF;\n",
              "    }\n",
              "  </style>\n",
              "\n",
              "      <script>\n",
              "        const buttonEl =\n",
              "          document.querySelector('#df-399ee288-5311-480e-be1f-34b64ddcc756 button.colab-df-convert');\n",
              "        buttonEl.style.display =\n",
              "          google.colab.kernel.accessAllowed ? 'block' : 'none';\n",
              "\n",
              "        async function convertToInteractive(key) {\n",
              "          const element = document.querySelector('#df-399ee288-5311-480e-be1f-34b64ddcc756');\n",
              "          const dataTable =\n",
              "            await google.colab.kernel.invokeFunction('convertToInteractive',\n",
              "                                                     [key], {});\n",
              "          if (!dataTable) return;\n",
              "\n",
              "          const docLinkHtml = 'Like what you see? Visit the ' +\n",
              "            '<a target=\"_blank\" href=https://colab.research.google.com/notebooks/data_table.ipynb>data table notebook</a>'\n",
              "            + ' to learn more about interactive tables.';\n",
              "          element.innerHTML = '';\n",
              "          dataTable['output_type'] = 'display_data';\n",
              "          await google.colab.output.renderOutput(dataTable, element);\n",
              "          const docLink = document.createElement('div');\n",
              "          docLink.innerHTML = docLinkHtml;\n",
              "          element.appendChild(docLink);\n",
              "        }\n",
              "      </script>\n",
              "    </div>\n",
              "  </div>\n",
              "  "
            ]
          },
          "metadata": {},
          "execution_count": 40
        }
      ]
    },
    {
      "cell_type": "code",
      "source": [],
      "metadata": {
        "colab": {
          "base_uri": "https://localhost:8080/"
        },
        "id": "-JCBep1JnKjK",
        "outputId": "e5efb08b-7a85-4d04-acab-40633bf6516d"
      },
      "execution_count": 49,
      "outputs": [
        {
          "output_type": "execute_result",
          "data": {
            "text/plain": [
              "0      Artritis hombro\n",
              "1      Artritis hombro\n",
              "2      Artritis hombro\n",
              "3      Artritis hombro\n",
              "4      Artritis hombro\n",
              "            ...       \n",
              "116        Gonartrosis\n",
              "117        Gonartrosis\n",
              "118        Gonartrosis\n",
              "119        Gonartrosis\n",
              "120        Gonartrosis\n",
              "Name: Diagnóstico, Length: 121, dtype: object"
            ]
          },
          "metadata": {},
          "execution_count": 49
        }
      ]
    },
    {
      "cell_type": "code",
      "source": [
        "df['Diagnóstico'].unique()"
      ],
      "metadata": {
        "colab": {
          "base_uri": "https://localhost:8080/"
        },
        "id": "inRblJ_MntCx",
        "outputId": "129b05c7-5e9d-4a90-9359-73ef983e75e5"
      },
      "execution_count": 52,
      "outputs": [
        {
          "output_type": "execute_result",
          "data": {
            "text/plain": [
              "array(['Artritis hombro', 'Coxartrosis', 'Gonartrosis'], dtype=object)"
            ]
          },
          "metadata": {},
          "execution_count": 52
        }
      ]
    },
    {
      "cell_type": "code",
      "source": [
        "import seaborn as sns\n",
        "\"\"\"\n",
        "'Artritis hombro es rojo',\n",
        " 'Coxartrosis' es azul,\n",
        "  'Gonartrosis e rosa']\n",
        "\"\"\"\n",
        "lol= ['red','blue','pink']\n",
        "lut = dict(zip(df['Diagnóstico'].unique(), lol))\n",
        "row_colors = df['Diagnóstico'].map(lut)\n",
        "\n",
        "ax = sns.clustermap(df.iloc[:,1:],row_colors=row_colors.to_numpy(),yticklabels=False,xticklabels=True,col_cluster=True,row_cluster=True,standard_scale=1,cmap=\"viridis\",figsize=(15, 6))\n"
      ],
      "metadata": {
        "colab": {
          "base_uri": "https://localhost:8080/",
          "height": 320
        },
        "id": "WZhzBKC7g7UZ",
        "outputId": "4cef6402-8c4e-485b-8e33-a727998a9c81"
      },
      "execution_count": 55,
      "outputs": [
        {
          "output_type": "display_data",
          "data": {
            "text/plain": [
              "<Figure size 1080x432 with 5 Axes>"
            ],
            "image/png": "[encoded data removed]"
          },
          "metadata": {
            "needs_background": "light"
          }
        }
      ]
    }
  ]
}